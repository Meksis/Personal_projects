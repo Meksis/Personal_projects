{
 "cells": [
  {
   "cell_type": "code",
   "execution_count": 1,
   "metadata": {},
   "outputs": [],
   "source": [
    "from locator import *\n",
    "from DB_work import DB_ORM\n",
    "import os\n",
    "from random import choice\n",
    "from numpy.random import uniform as random_"
   ]
  },
  {
   "cell_type": "code",
   "execution_count": 2,
   "metadata": {},
   "outputs": [],
   "source": [
    "cargo_table = 'CARGOS_STORED'\n",
    "\n",
    "cargo_id_sequence = '0123456789ABCDEF'\n",
    "cargo_id_length = 16"
   ]
  },
  {
   "cell_type": "code",
   "execution_count": 3,
   "metadata": {},
   "outputs": [],
   "source": [
    "def calculator(length = cargo_id_length, digits = cargo_id_sequence):\n",
    "    res = str(length ** len(digits))\n",
    "    return(' '.join([''.join([a for a in res[::-1][x - 3 : x]]) for x in range(3, length + 7, 3)])[::-1])"
   ]
  },
  {
   "cell_type": "code",
   "execution_count": 4,
   "metadata": {},
   "outputs": [],
   "source": [
    "def generate_hex_sequence(length = cargo_id_length, seq_len = 4, digits = cargo_id_sequence):\n",
    "    return('-'.join( [''.join( [choice(digits) for i in range(seq_len) ] ) for j in range(round(length / seq_len)) ] ))"
   ]
  },
  {
   "cell_type": "code",
   "execution_count": 5,
   "metadata": {},
   "outputs": [
    {
     "name": "stdout",
     "output_type": "stream",
     "text": [
      "Выбранный метод учета идентификаторов грузов позволяет иметь 18 446 744 073 709 551 616 грузов с уникальным идентификатором\n"
     ]
    }
   ],
   "source": [
    "print(f\"\"\"Выбранный метод учета идентификаторов грузов позволяет иметь {calculator()} грузов с уникальным идентификатором\"\"\")"
   ]
  },
  {
   "cell_type": "code",
   "execution_count": 6,
   "metadata": {},
   "outputs": [],
   "source": [
    "def random(low, high, size, is_round = False):\n",
    "    return([round(i, 2) if not is_round else round(i) for i in random_(low, high, size)])"
   ]
  },
  {
   "cell_type": "code",
   "execution_count": 7,
   "metadata": {},
   "outputs": [],
   "source": [
    "DB_object = DB_ORM()"
   ]
  },
  {
   "cell_type": "code",
   "execution_count": 11,
   "metadata": {},
   "outputs": [],
   "source": [
    "cargos_packages = [\n",
    "    {'name' : 'Малый', 'sizes' : '30x40x30', 'max_weight' : 10, 'fragile' : True}, \n",
    "    {'name' : 'Средний', 'sizes' : '60x60x50', 'max_weight' : 40, 'fragile' : True}, \n",
    "    {'name' : 'Большой', 'sizes' : '100x70x70', 'max_weight' : 70, 'fragile' : False}\n",
    "    ]"
   ]
  },
  {
   "cell_type": "code",
   "execution_count": 8,
   "metadata": {},
   "outputs": [],
   "source": [
    "cargos_data_tests = [{\n",
    "    'Вес' : random(0.5, 10, 1)[0], \n",
    "    \"Габариты\" : f\"{random(10, 100, 1, True)[0]}x{random(10, 70, 1, True)[0]}x{random(10, 70, 1, True)[0]}\", \n",
    "    'Хрупкое' : random(0, 1, 1, True)[0]\n",
    "    } for i in range(10)]"
   ]
  },
  {
   "cell_type": "code",
   "execution_count": 9,
   "metadata": {},
   "outputs": [
    {
     "data": {
      "text/plain": [
       "[{'Вес': 7.99, 'Габариты': '16x52x64', 'Хрупкое': 1},\n",
       " {'Вес': 2.19, 'Габариты': '58x43x46', 'Хрупкое': 0},\n",
       " {'Вес': 0.58, 'Габариты': '16x62x50', 'Хрупкое': 0},\n",
       " {'Вес': 6.74, 'Габариты': '98x28x47', 'Хрупкое': 1},\n",
       " {'Вес': 5.16, 'Габариты': '30x11x32', 'Хрупкое': 0},\n",
       " {'Вес': 8.06, 'Габариты': '90x38x59', 'Хрупкое': 0},\n",
       " {'Вес': 7.35, 'Габариты': '74x68x15', 'Хрупкое': 1},\n",
       " {'Вес': 8.72, 'Габариты': '52x50x47', 'Хрупкое': 1},\n",
       " {'Вес': 4.35, 'Габариты': '33x64x67', 'Хрупкое': 1},\n",
       " {'Вес': 2.83, 'Габариты': '47x66x12', 'Хрупкое': 1}]"
      ]
     },
     "execution_count": 9,
     "metadata": {},
     "output_type": "execute_result"
    }
   ],
   "source": [
    "cargos_data_tests"
   ]
  },
  {
   "attachments": {},
   "cell_type": "markdown",
   "metadata": {},
   "source": [
    "---"
   ]
  },
  {
   "attachments": {},
   "cell_type": "markdown",
   "metadata": {},
   "source": [
    "Занесение в БД грузов"
   ]
  },
  {
   "attachments": {},
   "cell_type": "markdown",
   "metadata": {},
   "source": [
    "- Все большие грузы с пометкой \"Хрупкое\" не могут быть размещены на складе. Необходимо добавление новых контейнеров"
   ]
  },
  {
   "cell_type": "code",
   "execution_count": 14,
   "metadata": {},
   "outputs": [
    {
     "name": "stdout",
     "output_type": "stream",
     "text": [
      "\n",
      "      Успешно размещено 5 груз(-а, -ов):\n",
      "        {'Вес': 2.19, 'Габариты': '58x43x46', 'Хрупкое': 0}\n",
      "{'Вес': 0.58, 'Габариты': '16x62x50', 'Хрупкое': 0}\n",
      "{'Вес': 5.16, 'Габариты': '30x11x32', 'Хрупкое': 0}\n",
      "{'Вес': 8.06, 'Габариты': '90x38x59', 'Хрупкое': 0}\n",
      "{'Вес': 8.72, 'Габариты': '52x50x47', 'Хрупкое': 1}\n",
      "\n",
      "      Не удалось разместить 5 груз(-а, -ов):\n",
      "        {'Вес': 7.99, 'Габариты': '16x52x64', 'Хрупкое': 1}\n",
      "{'Вес': 6.74, 'Габариты': '98x28x47', 'Хрупкое': 1}\n",
      "{'Вес': 7.35, 'Габариты': '74x68x15', 'Хрупкое': 1}\n",
      "{'Вес': 4.35, 'Габариты': '33x64x67', 'Хрупкое': 1}\n",
      "{'Вес': 2.83, 'Габариты': '47x66x12', 'Хрупкое': 1}\n",
      "      \n"
     ]
    }
   ],
   "source": [
    "unplaced_cargos = []\n",
    "\n",
    "for cargo_number, cargo in enumerate(cargos_data_tests):\n",
    "    for cargo_package_info in cargos_packages:\n",
    "        is_ok = [False, False, False]\n",
    "\n",
    "        if cargo['Хрупкое']:\n",
    "            if cargo_package_info['fragile']:\n",
    "                is_ok[0] = True\n",
    "        \n",
    "        else:\n",
    "            is_ok[0] = True\n",
    "\n",
    "\n",
    "        if cargo['Вес'] <= cargo_package_info['max_weight']:\n",
    "            is_ok[1] = True\n",
    "        \n",
    "\n",
    "        cargo_sizes = cargo['Габариты'].split('x')\n",
    "        cargo_package_sizes = cargo_package_info['sizes'].split('x')\n",
    "\n",
    "\n",
    "        if int(cargo_sizes[0]) <= int(cargo_package_sizes[0]) and int(cargo_sizes[1]) <= int(cargo_package_sizes[1]) and int(cargo_sizes[2]) <= int(cargo_package_sizes[2]):\n",
    "            is_ok[2] = True\n",
    "        \n",
    "        if is_ok.count(True) == 3:\n",
    "            break\n",
    "    \n",
    "    \n",
    "\n",
    "    if is_ok.count(True) == 3:\n",
    "        zone = 'CARGOS_ZONE_' + {'Малый' : 'SMALL', 'Средний' : 'MIDDLE', 'Большой' : 'BIG'}[cargo_package_info['name']]\n",
    "\n",
    "        cargo_id_prep = generate_hex_sequence()\n",
    "\n",
    "\n",
    "        cargo_id_exists = True if len(DB_object.execute(f\"\"\"\n",
    "                                                SELECT * FROM {cargo_table} WHERE cargo_id = '{cargo_id_prep}'\n",
    "                                            \"\"\", is_change=False)) else False\n",
    "        \n",
    "        while cargo_id_exists:\n",
    "            cargo_id_prep = generate_hex_sequence()\n",
    "            cargo_id_exists = True if len(DB_object.execute(f\"\"\"\n",
    "                                            SELECT * FROM {cargo_table} WHERE cargo_id = '{cargo_id_prep}'\n",
    "                                        \"\"\", is_change=False)) else False\n",
    "\n",
    "        # print(cargo_id_prep, cargo_id_exists)\n",
    "        # print(cargo, cargo_package_info)\n",
    "        # print(zone, '\\n')\n",
    "\n",
    "        DB_object.execute(f\"\"\"UPDATE {zone} SET cargo_id = '{cargo_id_prep}' WHERE id = (SELECT id from {zone} WHERE cargo_id is NULL LIMIT 1);\"\"\", is_change=True)\n",
    "\n",
    "        DB_object.execute(f\"\"\"\n",
    "                            INSERT INTO {cargo_table} (cargo_id, weight, long_width_height, fragile, zone) VALUES ('{cargo_id_prep}', {cargo['Вес']}, '{cargo['Габариты']}', {cargo['Хрупкое']}, '{zone}');\n",
    "                        \n",
    "                            \"\"\", is_change=True)\n",
    "    else:\n",
    "        unplaced_cargos.append(cargo)\n",
    "\n",
    "new_row_sym = '\\n'\n",
    "print(f\"\"\"\n",
    "      Успешно размещено {len([str(i) for i in cargos_data_tests if i not in unplaced_cargos])} груз(-а, -ов):\n",
    "        {new_row_sym.join([str(i) for i in cargos_data_tests if i not in unplaced_cargos])}\n",
    "\n",
    "      Не удалось разместить {len(unplaced_cargos)} груз(-а, -ов):\n",
    "        {new_row_sym.join([str(i) for i in unplaced_cargos])}\n",
    "      \"\"\")"
   ]
  },
  {
   "attachments": {},
   "cell_type": "markdown",
   "metadata": {},
   "source": [
    "---"
   ]
  },
  {
   "attachments": {},
   "cell_type": "markdown",
   "metadata": {},
   "source": [
    "Получение из БД"
   ]
  },
  {
   "cell_type": "code",
   "execution_count": 26,
   "metadata": {},
   "outputs": [
    {
     "name": "stdout",
     "output_type": "stream",
     "text": [
      "Груз D961-CA99-BF73-FB44 \n",
      "    {'id': 35, 'cargo_id': 'D961-CA99-BF73-FB44', 'weight': 7.68, 'long_width_height': '72x32x60', 'fragile': 0, 'zone': 'CARGOS_ZONE_BIG'} \n",
      "    расположен в зоне CARGOS_ZONE_BIG в ячейке # 23\n"
     ]
    }
   ],
   "source": [
    "cargo_id_find = 'D961-CA99-BF73-FB44'\n",
    "\n",
    "cargo_data = DB_object.execute(f\"\"\"SELECT * FROM CARGOS_STORED WHERE cargo_id = '{cargo_id_find}'\"\"\", is_change=False)\n",
    "\n",
    "is_cargo_stored = True if len(cargo_data) else False\n",
    "\n",
    "if not is_cargo_stored:\n",
    "    print('Груза с таким ID нет на складе')\n",
    "\n",
    "else:\n",
    "    cargo_data = cargo_data[0]\n",
    "    columns = DB_object.columns_names(cargo_table)\n",
    "    cargo_data = {column : value for column, value in zip(columns, cargo_data)}\n",
    "\n",
    "    cell_number = DB_object.execute(f\"\"\"SELECT * FROM {cargo_data['zone']} WHERE cargo_id = '{cargo_id_find}'\"\"\", is_change=False)[0][0]\n",
    "    print(f\"\"\"Груз {cargo_id_find} \n",
    "    {cargo_data} \n",
    "    расположен в зоне {cargo_data['zone']} в ячейке # {cell_number}\"\"\")"
   ]
  },
  {
   "attachments": {},
   "cell_type": "markdown",
   "metadata": {},
   "source": [
    "---"
   ]
  },
  {
   "attachments": {},
   "cell_type": "markdown",
   "metadata": {},
   "source": [
    "Имитация выдачи груза"
   ]
  },
  {
   "cell_type": "code",
   "execution_count": 28,
   "metadata": {},
   "outputs": [
    {
     "name": "stdout",
     "output_type": "stream",
     "text": [
      "Груз D961-CA99-BF73-FB44 \n",
      "    {'id': 35, 'cargo_id': 'D961-CA99-BF73-FB44', 'weight': 7.68, 'long_width_height': '72x32x60', 'fragile': 0, 'zone': 'CARGOS_ZONE_BIG'} \n",
      "    расположенный в зоне CARGOS_ZONE_BIG в ячейке # 23 успешно выдан\n"
     ]
    }
   ],
   "source": [
    "cargo_id_out = 'D961-CA99-BF73-FB44'\n",
    "\n",
    "cargo_data = DB_object.execute(f\"\"\"SELECT * FROM CARGOS_STORED WHERE cargo_id = '{cargo_id_find}'\"\"\", is_change=False)\n",
    "\n",
    "is_cargo_stored = True if len(cargo_data) else False\n",
    "\n",
    "if not is_cargo_stored:\n",
    "    print('Груза с таким ID нет на складе')\n",
    "\n",
    "else:\n",
    "    cargo_data = cargo_data[0]\n",
    "    columns = DB_object.columns_names(cargo_table)\n",
    "    cargo_data = {column : value for column, value in zip(columns, cargo_data)}\n",
    "\n",
    "    cell_number = DB_object.execute(f\"\"\"SELECT * FROM {cargo_data['zone']} WHERE cargo_id = '{cargo_id_find}'\"\"\", is_change=False)[0][0]\n",
    "\n",
    "    DB_object.execute(f\"\"\"UPDATE {cargo_data['zone']} SET cargo_id = NULL WHERE id = {cell_number}\"\"\", is_change=True)\n",
    "    DB_object.execute(f\"\"\"DELETE FROM {cargo_table} WHERE cargo_id = '{cargo_id_find}'\"\"\", is_change=True)\n",
    "\n",
    "    print(f\"\"\"Груз {cargo_id_find} \n",
    "    {cargo_data} \n",
    "    расположенный в зоне {cargo_data['zone']} в ячейке # {cell_number} успешно выдан\"\"\")\n",
    "\n"
   ]
  },
  {
   "attachments": {},
   "cell_type": "markdown",
   "metadata": {},
   "source": [
    "---"
   ]
  },
  {
   "cell_type": "code",
   "execution_count": null,
   "metadata": {},
   "outputs": [],
   "source": []
  },
  {
   "cell_type": "code",
   "execution_count": 294,
   "metadata": {},
   "outputs": [
    {
     "data": {
      "text/plain": [
       "True"
      ]
     },
     "execution_count": 294,
     "metadata": {},
     "output_type": "execute_result"
    }
   ],
   "source": [
    "DB_object.execute('DROP TABLE CARGOS_ZONE_SMALL', is_change=True)"
   ]
  },
  {
   "cell_type": "code",
   "execution_count": 295,
   "metadata": {},
   "outputs": [
    {
     "data": {
      "text/plain": [
       "True"
      ]
     },
     "execution_count": 295,
     "metadata": {},
     "output_type": "execute_result"
    }
   ],
   "source": [
    "DB_object.execute('DROP TABLE CARGOS_ZONE_MIDDLE', is_change=True)"
   ]
  },
  {
   "cell_type": "code",
   "execution_count": 296,
   "metadata": {},
   "outputs": [
    {
     "data": {
      "text/plain": [
       "True"
      ]
     },
     "execution_count": 296,
     "metadata": {},
     "output_type": "execute_result"
    }
   ],
   "source": [
    "DB_object.execute('DROP TABLE CARGOS_ZONE_BIG', is_change=True)"
   ]
  },
  {
   "cell_type": "code",
   "execution_count": 297,
   "metadata": {},
   "outputs": [],
   "source": [
    "# DB_object.execute('DROP TABLE CARGOS_STORED', is_change=True)"
   ]
  },
  {
   "cell_type": "code",
   "execution_count": 298,
   "metadata": {},
   "outputs": [
    {
     "data": {
      "text/plain": [
       "True"
      ]
     },
     "execution_count": 298,
     "metadata": {},
     "output_type": "execute_result"
    }
   ],
   "source": [
    "DB_object.execute(f'DROP TABLE {cargo_table}', is_change=True)"
   ]
  },
  {
   "cell_type": "code",
   "execution_count": 299,
   "metadata": {},
   "outputs": [
    {
     "data": {
      "text/plain": [
       "True"
      ]
     },
     "execution_count": 299,
     "metadata": {},
     "output_type": "execute_result"
    }
   ],
   "source": [
    "DB_object.execute(f\"\"\"\n",
    "                  CREATE TABLE IF NOT EXISTS CARGOS_ZONE_SMALL(\n",
    "                    id INTEGER PRIMARY KEY,\n",
    "                    cargo_id INTEGER UNIQUE\n",
    "                  )\n",
    "                  \"\"\", is_change=True)\n",
    "\n",
    "\n",
    "DB_object.execute(f\"\"\"\n",
    "                  CREATE TABLE IF NOT EXISTS CARGOS_ZONE_MIDDLE(\n",
    "                    id INTEGER PRIMARY KEY,\n",
    "                    cargo_id INTEGER UNIQUE\n",
    "                  )\n",
    "                  \"\"\", is_change=True)\n",
    "\n",
    "\n",
    "DB_object.execute(f\"\"\"\n",
    "                  CREATE TABLE IF NOT EXISTS CARGOS_ZONE_BIG(\n",
    "                    id INTEGER PRIMARY KEY,\n",
    "                    cargo_id INTEGER UNIQUE\n",
    "                  )\n",
    "                  \"\"\", is_change=True)\n",
    "\n",
    "DB_object.execute(f\"\"\"\n",
    "                  CREATE TABLE IF NOT EXISTS {cargo_table} (\n",
    "                        id INTEGER UNIQUE PRIMARY KEY,\n",
    "                        cargo_id TEXT UNIQUE,\n",
    "                        weight REAL,\n",
    "                        long_width_height TEXT,\n",
    "                        fragile INTEGER,\n",
    "                        zone TEXT\n",
    "                    );\n",
    "                  \"\"\", is_change=True)"
   ]
  },
  {
   "cell_type": "code",
   "execution_count": null,
   "metadata": {},
   "outputs": [],
   "source": []
  },
  {
   "cell_type": "code",
   "execution_count": 300,
   "metadata": {},
   "outputs": [],
   "source": [
    "for name in ('SMALL', 'MIDDLE', 'BIG'):\n",
    "    for i in range(100):\n",
    "        DB_object.execute(f\"\"\"\n",
    "                      INSERT INTO CARGOS_ZONE_{name} (id) VALUES({i})\n",
    "                  \"\"\", is_change=True)"
   ]
  },
  {
   "cell_type": "code",
   "execution_count": null,
   "metadata": {},
   "outputs": [],
   "source": []
  }
 ],
 "metadata": {
  "kernelspec": {
   "display_name": "Python 3",
   "language": "python",
   "name": "python3"
  },
  "language_info": {
   "codemirror_mode": {
    "name": "ipython",
    "version": 3
   },
   "file_extension": ".py",
   "mimetype": "text/x-python",
   "name": "python",
   "nbconvert_exporter": "python",
   "pygments_lexer": "ipython3",
   "version": "3.10.8"
  },
  "orig_nbformat": 4
 },
 "nbformat": 4,
 "nbformat_minor": 2
}
