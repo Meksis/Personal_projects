{
 "cells": [
  {
   "cell_type": "code",
   "execution_count": null,
   "metadata": {},
   "outputs": [],
   "source": [
    "from flask import Flask, render_template, request, redirect, url_for"
   ]
  },
  {
   "cell_type": "code",
   "execution_count": null,
   "metadata": {},
   "outputs": [],
   "source": [
    "app = Flask(__name__)"
   ]
  },
  {
   "cell_type": "code",
   "execution_count": null,
   "metadata": {},
   "outputs": [],
   "source": [
    "@app.route('/')\n",
    "def home():\n",
    "    return redirect(url_for('main'))\n",
    "\n",
    "    # return 'Welcome to my website!'\n",
    "\n",
    "\n",
    "@app.route('/main')\n",
    "def main():\n",
    "    return('Это - главная страница сайта.')\n",
    "\n",
    "@app.route('/about')\n",
    "def about():\n",
    "    return 'This is the about page.'\n",
    "\n",
    "@app.route('/contact')\n",
    "def contact():\n",
    "    return 'You can contact us at example@example.com.'\n",
    "\n",
    "@app.route('/form', methods=['GET', 'POST'])\n",
    "def form():\n",
    "    if request.method == 'POST':\n",
    "        name = request.form['name']\n",
    "        # return f'Hello, {name}! Form submitted successfully.'\n",
    "\n",
    "        print(name)\n",
    "\n",
    "    return redirect(url_for('main'))\n",
    "\n",
    "# @app.route('/redirect')\n",
    "# def redirect_example():\n",
    "#     return redirect(url_for('home'))\n",
    "\n",
    "if __name__ == '__main__':\n",
    "    app.run()"
   ]
  }
 ],
 "metadata": {
  "language_info": {
   "name": "python"
  },
  "orig_nbformat": 4
 },
 "nbformat": 4,
 "nbformat_minor": 2
}
