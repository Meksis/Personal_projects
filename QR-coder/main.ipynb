{
 "cells": [
  {
   "cell_type": "code",
   "execution_count": 1,
   "metadata": {},
   "outputs": [],
   "source": [
    "import pyqrcode, os, shutil\n",
    "import streamlit as st"
   ]
  },
  {
   "cell_type": "code",
   "execution_count": 2,
   "metadata": {},
   "outputs": [],
   "source": [
    "code = pyqrcode.create('Are you suggesting coconuts migrate?')\n",
    "code.png('swallow.png', scale=5)\n",
    "code.png('swallow.png', scale=5,\n",
    "                module_color=(0x66, 0x33, 0x0),      #Dark brown\n",
    "                background=(0x00, 0x00, 0x00, 0x88)) #50% transparent white\n",
    "                # background=(0xff, 0xff, 0xff, 0x88)) #50% transparent white"
   ]
  },
  {
   "cell_type": "code",
   "execution_count": null,
   "metadata": {},
   "outputs": [],
   "source": [
    "text_to_encode = st.text_input('Ваш текст для кодирования')\n",
    "qr_code_color = st.color_picker('Цвет для QR-кода')"
   ]
  },
  {
   "cell_type": "code",
   "execution_count": 6,
   "metadata": {},
   "outputs": [
    {
     "data": {
      "text/plain": [
       "15"
      ]
     },
     "execution_count": 6,
     "metadata": {},
     "output_type": "execute_result"
    }
   ],
   "source": [
    "hex_alph = '0123456789abcdef'\n",
    "\n",
    "\n",
    "hex_alph.index('f')"
   ]
  },
  {
   "cell_type": "code",
   "execution_count": 15,
   "metadata": {},
   "outputs": [],
   "source": [
    "def hex2dec(hex : str) -> int:\n",
    "    alphabet = '0123456789abcdef'\n",
    "    number = 0\n",
    "    \n",
    "    for counter, sym in enumerate(hex[::-1]):\n",
    "        number += alphabet.index(sym) * 16 ** counter\n",
    "    \n",
    "    return(number)"
   ]
  },
  {
   "cell_type": "code",
   "execution_count": null,
   "metadata": {},
   "outputs": [],
   "source": [
    "def color_remaker(string : str) -> list[str]:\n",
    "    return ([i[0] for i in [[f'{string[1 : ][counter-1]}{string[1 : ][counter]}' if counter % 2 else 0] for counter in range(len(string[ 1 : ]))] if i[0] ])\n",
    "    "
   ]
  },
  {
   "cell_type": "code",
   "execution_count": 17,
   "metadata": {},
   "outputs": [
    {
     "data": {
      "text/plain": [
       "254"
      ]
     },
     "execution_count": 17,
     "metadata": {},
     "output_type": "execute_result"
    }
   ],
   "source": [
    "hex2dec('fe')"
   ]
  }
 ],
 "metadata": {
  "kernelspec": {
   "display_name": "Python 3",
   "language": "python",
   "name": "python3"
  },
  "language_info": {
   "codemirror_mode": {
    "name": "ipython",
    "version": 3
   },
   "file_extension": ".py",
   "mimetype": "text/x-python",
   "name": "python",
   "nbconvert_exporter": "python",
   "pygments_lexer": "ipython3",
   "version": "3.10.8"
  },
  "orig_nbformat": 4
 },
 "nbformat": 4,
 "nbformat_minor": 2
}
