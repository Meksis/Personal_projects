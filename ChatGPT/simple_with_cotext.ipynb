{
 "cells": [
  {
   "cell_type": "code",
   "execution_count": 2,
   "metadata": {},
   "outputs": [],
   "source": [
    "import openai, json\n",
    "import streamlit as st\n",
    "\n",
    "with open('configs.json', 'r', encoding='utf-8') as file : \n",
    "    file = json.loads(file.read())\n",
    "    openai.api_key = file['api_key'] \n",
    "    txt_for_setup = file['setup_text']\n",
    "\n",
    "def make_response(prompt : str, history : list[dict] = []) -> list[str, list]:\n",
    "    response = openai.ChatCompletion.create(\n",
    "        model = \"gpt-3.5-turbo\",\n",
    "        messages = [\n",
    "            {\n",
    "                \"role\" : \"system\",\n",
    "                'content' : txt_for_setup\n",
    "            },\n",
    "\n",
    "            * history,\n",
    "\n",
    "            {\n",
    "                \"role\" : \"user\",\n",
    "                'content' : prompt\n",
    "            },\n",
    "        ]\n",
    "    )\n",
    "\n",
    "    response = response.choices[0].message.content if 'choices' in response else False\n",
    "\n",
    "    if response:\n",
    "        history.append({'role' : 'user', 'content' : prompt})\n",
    "        history.append({'role' : 'assistant', 'content' : response})\n",
    "\n",
    "        return(response, history)\n",
    "\n",
    "    else:\n",
    "        return(response)\n"
   ]
  },
  {
   "cell_type": "code",
   "execution_count": null,
   "metadata": {},
   "outputs": [],
   "source": [
    "import streamlit"
   ]
  },
  {
   "cell_type": "code",
   "execution_count": null,
   "metadata": {},
   "outputs": [],
   "source": [
    "st.sidebar.text_input('Изменить начальные установки', value = txt_for_setup, on_change=change_startup_text, key = 'startup_text_radeactor')"
   ]
  },
  {
   "cell_type": "code",
   "execution_count": 3,
   "metadata": {},
   "outputs": [],
   "source": [
    "response, history = make_response('Привет, поговорим?', [])"
   ]
  },
  {
   "cell_type": "code",
   "execution_count": 3,
   "metadata": {},
   "outputs": [
    {
     "data": {
      "text/plain": [
       "('Здравствуйте! Я всегда рад вести беседу с вами. Расскажите, о чем вы хотели бы поговорить?',\n",
       " [{'role': 'user', 'content': 'Привет, поговорим?'},\n",
       "  {'role': 'assistant',\n",
       "   'content': 'Здравствуйте! Я всегда рад вести беседу с вами. Расскажите, о чем вы хотели бы поговорить?'}])"
      ]
     },
     "execution_count": 3,
     "metadata": {},
     "output_type": "execute_result"
    }
   ],
   "source": [
    "response"
   ]
  },
  {
   "cell_type": "code",
   "execution_count": null,
   "metadata": {},
   "outputs": [],
   "source": []
  },
  {
   "cell_type": "code",
   "execution_count": 5,
   "metadata": {},
   "outputs": [
    {
     "name": "stdout",
     "output_type": "stream",
     "text": [
      "отношение::\"true\"\n",
      "сервис::\"true\"\n",
      "обращение::\"true\"\n",
      "общение::\"true\"\n",
      "груб::\"true\"\n",
      "\n"
     ]
    }
   ],
   "source": [
    "import pyperclip as pc\n",
    "\n",
    "string =\"\"\"\n",
    "отношение\n",
    "сервис\n",
    "обращение\n",
    "общение\n",
    "груб\n",
    "\"\"\"\n",
    "\n",
    "string = string.split('\\n')\n",
    "out = ''\n",
    "\n",
    "for element in string:\n",
    "    if element != '':\n",
    "        out += element.replace(' ', '/s') + '::\"true\"\\n'\n",
    "\n",
    "print(out)\n",
    "pc.copy(out)"
   ]
  },
  {
   "cell_type": "code",
   "execution_count": 1,
   "metadata": {},
   "outputs": [
    {
     "name": "stdout",
     "output_type": "stream",
     "text": [
      "C:/Users/orlov/Pictures/Images/wallpapersden.com_black-minimalist-hex_1920x1080.jpg\n"
     ]
    }
   ],
   "source": [
    "g = r'C:\\Users\\orlov\\Pictures\\Images\\wallpapersden.com_black-minimalist-hex_1920x1080.jpg'\n",
    "print(g.replace('\\\\', '/'))"
   ]
  }
 ],
 "metadata": {
  "kernelspec": {
   "display_name": ".venv",
   "language": "python",
   "name": "python3"
  },
  "language_info": {
   "codemirror_mode": {
    "name": "ipython",
    "version": 3
   },
   "file_extension": ".py",
   "mimetype": "text/x-python",
   "name": "python",
   "nbconvert_exporter": "python",
   "pygments_lexer": "ipython3",
   "version": "3.10.8"
  },
  "orig_nbformat": 4
 },
 "nbformat": 4,
 "nbformat_minor": 2
}
