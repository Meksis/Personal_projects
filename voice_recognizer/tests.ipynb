{
 "cells": [
  {
   "cell_type": "code",
   "execution_count": 17,
   "metadata": {},
   "outputs": [],
   "source": [
    "import speech_recognition as speech_recognize\n",
    "import asyncio\n",
    "import nest_asyncio\n",
    "nest_asyncio.apply()\n",
    "\n",
    "\n",
    "\n",
    "\n",
    "recognizer_threshold = 800\n",
    "speak_language = 'Russia'\n",
    "\n",
    "bot_name = 'Аура'\n",
    "cycle_stop_phrase = 'тормози'\n",
    "\n",
    "\n",
    "restricted_parts = ['speaker', 'outp', 'динамик']\n",
    "required_syms = '()'\n",
    "\n",
    "recognizer = speech_recognize.Recognizer()\n",
    "recognizer.energy_threshold = recognizer_threshold\n",
    "\n",
    "loop = asyncio.get_event_loop()\n",
    "\n"
   ]
  },
  {
   "cell_type": "code",
   "execution_count": 2,
   "metadata": {},
   "outputs": [],
   "source": [
    "# Не доделано, поскольку по-умолчанию библиотека слушает дефолтный микрофон системы\n",
    "async def select_input_device():\n",
    "    unique_micro_names = []\n",
    "    for name in speech_recognize.Microphone.list_microphone_names():\n",
    "        if name:\n",
    "            name = name.encode('cp1251').decode('utf8')\n",
    "            if name not in unique_micro_names and sum([1 if required in name else 0 for required in required_syms]) == 2 and not (sum([1 if restricted in name.lower() else 0 for restricted in restricted_parts])):\n",
    "                unique_micro_names.append(name)\n",
    "    \n",
    "    print('Выберите одно из представленных устройств:\\n')\n",
    "\n",
    "    input_text = input(''.join([f\"\\n** {unique_micro_names.index(name)} ** {name}\" for name in unique_micro_names]))\n",
    "\n",
    "    try:\n",
    "        input_text = int(input_text)\n",
    "        return()\n",
    "\n",
    "    except:\n",
    "        print('Микрофона с таким номером не существует.')\n",
    "        return(False)\n",
    "    # print(f'\\n** '.join(unique_micro_names))"
   ]
  },
  {
   "cell_type": "code",
   "execution_count": 20,
   "metadata": {},
   "outputs": [],
   "source": [
    "class Bot():\n",
    "    def __init__(self, recognizer : speech_recognize.Recognizer):\n",
    "        self.recognizer = recognizer\n",
    "\n",
    "\n",
    "    async def recognize_speech(self, recognize_timeot = 1):\n",
    "        with speech_recognize.Microphone() as source:\n",
    "            # print(\"Скажите что-нибудь:\")\n",
    "\n",
    "            try:\n",
    "                audio = self.recognizer.listen(source, timeout = recognize_timeot)\n",
    "\n",
    "            except speech_recognize.WaitTimeoutError:\n",
    "                out = ''\n",
    "                # print('Тишина')\n",
    "                return(out)\n",
    "\n",
    "\n",
    "        try:\n",
    "            text = await asyncio.to_thread(self.recognizer.recognize_google, audio, language=\"ru-RU\")\n",
    "            out = str(text)\n",
    "            # print(\"Вы сказали:\", text)\n",
    "\n",
    "        except speech_recognize.UnknownValueError:\n",
    "            out = ''\n",
    "            # print(\"Распознать речь не удалось\")\n",
    "        \n",
    "        return(out)\n",
    "\n",
    "\n",
    "    async def commands_redirecter(self, text):\n",
    "        # 1 элемент вывода - контент, 2 - надо ли остановить цикл\n",
    "        \n",
    "        text = text.lower()\n",
    "\n",
    "        if bot_name.lower() in text:\n",
    "            print(f'{bot_name} был вызван')\n",
    "            return('Внемлю', False)\n",
    "        \n",
    "        elif cycle_stop_phrase.lower() in text:\n",
    "            print('Цикл остановлен')\n",
    "            return('Цикл остановлен', True)\n",
    "        \n",
    "        else:\n",
    "            return(text, False)\n",
    "\n",
    "\n",
    "\n",
    "    async def main(self):\n",
    "        is_stop = False\n",
    "        while not is_stop and isinstance(is_stop, bool):\n",
    "            recognized = await self.recognize_speech(0.4)\n",
    "\n",
    "            data = await self.commands_redirecter(recognized)\n",
    "            content = data[0]\n",
    "            is_stop = data[1]\n",
    "\n",
    "            if len(content):\n",
    "                print(content)\n",
    "\n"
   ]
  },
  {
   "cell_type": "code",
   "execution_count": 35,
   "metadata": {},
   "outputs": [],
   "source": [
    "import pyttsx3\n",
    "\n",
    "def synthesize_with_voice(text, voice_name, lang=\"en\"):\n",
    "    engine = pyttsx3.init()\n",
    "    voices = engine.getProperty('voices')\n",
    "    engine.setProperty('voice', voices[1].id)\n",
    "    engine.setProperty('rate', 220)  # Устанавливаем скорость озвучивания\n",
    "\n",
    "    engine.say(text)\n",
    "    engine.runAndWait()\n",
    "\n",
    "text = \"Привет, это синтезированный голосовой текст.\"\n",
    "voice_name = \"russian\"  # Название русского голоса на вашей системе\n",
    "\n",
    "synthesize_with_voice(text, voice_name, lang=\"ru\")\n"
   ]
  },
  {
   "cell_type": "code",
   "execution_count": 31,
   "metadata": {},
   "outputs": [
    {
     "data": {
      "text/plain": [
       "'HKEY_LOCAL_MACHINE\\\\SOFTWARE\\\\Microsoft\\\\Speech\\\\Voices\\\\Tokens\\\\TTS_MS_RU-RU_IRINA_11.0'"
      ]
     },
     "execution_count": 31,
     "metadata": {},
     "output_type": "execute_result"
    }
   ],
   "source": [
    "engine = pyttsx3.init()\n"
   ]
  },
  {
   "cell_type": "code",
   "execution_count": 26,
   "metadata": {},
   "outputs": [],
   "source": [
    "from gtts import gTTS\n",
    "from pydub import AudioSegment\n",
    "from pydub.playback import play\n",
    "import io\n",
    "\n",
    "def synthesize_and_play_audio(text, lang=\"en\"):\n",
    "    tts = gTTS(text, lang=lang, )\n",
    "    \n",
    "    # Создаем объект BytesIO для работы с данными в памяти\n",
    "    mp3_data = io.BytesIO()\n",
    "    tts.write_to_fp(mp3_data)\n",
    "    \n",
    "    # Перематываем в начало данных для их чтения\n",
    "    mp3_data.seek(0)\n",
    "    \n",
    "    audio = AudioSegment.from_mp3(mp3_data)\n",
    "    play(audio)\n",
    "\n",
    "text = \"Хотелось бы мне говорить побыстрее.\"\n",
    "synthesize_and_play_audio(text, lang=\"ru\")\n",
    "\n"
   ]
  },
  {
   "cell_type": "code",
   "execution_count": 21,
   "metadata": {},
   "outputs": [],
   "source": [
    "bot_object = Bot(recognizer)"
   ]
  },
  {
   "cell_type": "code",
   "execution_count": 36,
   "metadata": {},
   "outputs": [
    {
     "name": "stdout",
     "output_type": "stream",
     "text": [
      "алло\n",
      "алло\n",
      "армавир\n",
      "Цикл остановлен\n",
      "Цикл остановлен\n"
     ]
    }
   ],
   "source": [
    "loop.run_until_complete(bot_object.main())"
   ]
  },
  {
   "cell_type": "code",
   "execution_count": 6,
   "metadata": {},
   "outputs": [
    {
     "ename": "NameError",
     "evalue": "name 'main' is not defined",
     "output_type": "error",
     "traceback": [
      "\u001b[1;31m---------------------------------------------------------------------------\u001b[0m",
      "\u001b[1;31mNameError\u001b[0m                                 Traceback (most recent call last)",
      "Cell \u001b[1;32mIn[6], line 1\u001b[0m\n\u001b[1;32m----> 1\u001b[0m loop\u001b[39m.\u001b[39mrun_until_complete(main())\n",
      "\u001b[1;31mNameError\u001b[0m: name 'main' is not defined"
     ]
    }
   ],
   "source": []
  },
  {
   "cell_type": "markdown",
   "metadata": {},
   "source": [
    "---"
   ]
  },
  {
   "cell_type": "code",
   "execution_count": null,
   "metadata": {},
   "outputs": [],
   "source": []
  }
 ],
 "metadata": {
  "kernelspec": {
   "display_name": "Python 3",
   "language": "python",
   "name": "python3"
  },
  "language_info": {
   "codemirror_mode": {
    "name": "ipython",
    "version": 3
   },
   "file_extension": ".py",
   "mimetype": "text/x-python",
   "name": "python",
   "nbconvert_exporter": "python",
   "pygments_lexer": "ipython3",
   "version": "3.10.8"
  },
  "orig_nbformat": 4
 },
 "nbformat": 4,
 "nbformat_minor": 2
}
