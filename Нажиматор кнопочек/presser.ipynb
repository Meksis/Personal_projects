{
 "cells": [
  {
   "cell_type": "code",
   "execution_count": 1,
   "metadata": {},
   "outputs": [],
   "source": [
    "import time\n",
    "import pyautogui\n",
    "\n"
   ]
  },
  {
   "cell_type": "code",
   "execution_count": null,
   "metadata": {},
   "outputs": [],
   "source": [
    "# Пауза перед началом имитации нажатий (в секундах)\n",
    "initial_delay = 5\n",
    "\n",
    "# Время между нажатиями (в секундах)\n",
    "keypress_interval = 0.5\n",
    "\n",
    "# Функция для имитации нажатия клавиши \"4\"\n",
    "def press_key_4():\n",
    "    pyautogui.press('4')\n",
    "    print(\"Key 4 pressed\")\n",
    "\n",
    "# Функция для имитации нажатия клавиши \"5\"\n",
    "def press_key_5():\n",
    "    pyautogui.press('5')\n",
    "    print(\"Key 5 pressed\")\n",
    "\n",
    "# Отсчёт времени перед началом имитации нажатий\n",
    "print(f\"Starting in {initial_delay} seconds...\")\n",
    "time.sleep(initial_delay)\n",
    "\n",
    "# Начинаем имитацию нажатий\n",
    "try:\n",
    "    while True:\n",
    "        press_key_4()\n",
    "        time.sleep(keypress_interval)\n",
    "\n",
    "        press_key_5()\n",
    "        time.sleep(keypress_interval)\n",
    "        \n",
    "except KeyboardInterrupt:\n",
    "    print(\"Program stopped by the user\")"
   ]
  },
  {
   "cell_type": "code",
   "execution_count": null,
   "metadata": {},
   "outputs": [],
   "source": []
  }
 ],
 "metadata": {
  "kernelspec": {
   "display_name": "Python 3",
   "language": "python",
   "name": "python3"
  },
  "language_info": {
   "codemirror_mode": {
    "name": "ipython",
    "version": 3
   },
   "file_extension": ".py",
   "mimetype": "text/x-python",
   "name": "python",
   "nbconvert_exporter": "python",
   "pygments_lexer": "ipython3",
   "version": "3.10.8"
  },
  "orig_nbformat": 4
 },
 "nbformat": 4,
 "nbformat_minor": 2
}
